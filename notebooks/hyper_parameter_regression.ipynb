{
 "cells": [
  {
   "cell_type": "code",
   "execution_count": 64,
   "metadata": {
    "collapsed": false
   },
   "outputs": [],
   "source": [
    "import pandas as pd\n",
    "import numpy as np\n",
    "import matplotlib.pyplot as plt\n",
    "%matplotlib inline\n",
    "\n",
    "from sklearn.model_selection import train_test_split\n",
    "from sklearn import linear_model\n",
    "from sklearn.metrics import mean_squared_error, r2_score\n",
    "from sklearn.preprocessing import StandardScaler"
   ]
  },
  {
   "cell_type": "code",
   "execution_count": 90,
   "metadata": {
    "collapsed": true
   },
   "outputs": [],
   "source": [
    "data = pd.read_csv(\"../src/scores.txt\", delimiter=\"~\")"
   ]
  },
  {
   "cell_type": "code",
   "execution_count": 91,
   "metadata": {
    "collapsed": false
   },
   "outputs": [
    {
     "name": "stdout",
     "output_type": "stream",
     "text": [
      "<class 'pandas.core.frame.DataFrame'>\n",
      "RangeIndex: 111 entries, 0 to 110\n",
      "Data columns (total 6 columns):\n",
      "test_loss        111 non-null float64\n",
      "train_loss       111 non-null float64\n",
      "learning_rate    111 non-null float64\n",
      "lr_decay         111 non-null float64\n",
      "drop_out         111 non-null float64\n",
      "batch_size       111 non-null int64\n",
      "dtypes: float64(5), int64(1)\n",
      "memory usage: 5.3 KB\n"
     ]
    }
   ],
   "source": [
    "data.info()"
   ]
  },
  {
   "cell_type": "code",
   "execution_count": 92,
   "metadata": {
    "collapsed": false
   },
   "outputs": [
    {
     "data": {
      "text/html": [
       "<div>\n",
       "<style>\n",
       "    .dataframe thead tr:only-child th {\n",
       "        text-align: right;\n",
       "    }\n",
       "\n",
       "    .dataframe thead th {\n",
       "        text-align: left;\n",
       "    }\n",
       "\n",
       "    .dataframe tbody tr th {\n",
       "        vertical-align: top;\n",
       "    }\n",
       "</style>\n",
       "<table border=\"1\" class=\"dataframe\">\n",
       "  <thead>\n",
       "    <tr style=\"text-align: right;\">\n",
       "      <th></th>\n",
       "      <th>test_loss</th>\n",
       "      <th>train_loss</th>\n",
       "      <th>learning_rate</th>\n",
       "      <th>lr_decay</th>\n",
       "      <th>drop_out</th>\n",
       "      <th>batch_size</th>\n",
       "    </tr>\n",
       "  </thead>\n",
       "  <tbody>\n",
       "    <tr>\n",
       "      <th>0</th>\n",
       "      <td>0.26522</td>\n",
       "      <td>0.17990</td>\n",
       "      <td>0.006921</td>\n",
       "      <td>0.000001</td>\n",
       "      <td>0.576119</td>\n",
       "      <td>8</td>\n",
       "    </tr>\n",
       "    <tr>\n",
       "      <th>1</th>\n",
       "      <td>0.24839</td>\n",
       "      <td>0.04267</td>\n",
       "      <td>0.004684</td>\n",
       "      <td>0.000067</td>\n",
       "      <td>0.166472</td>\n",
       "      <td>128</td>\n",
       "    </tr>\n",
       "    <tr>\n",
       "      <th>2</th>\n",
       "      <td>0.17498</td>\n",
       "      <td>0.04409</td>\n",
       "      <td>0.007602</td>\n",
       "      <td>0.000987</td>\n",
       "      <td>0.393835</td>\n",
       "      <td>32</td>\n",
       "    </tr>\n",
       "    <tr>\n",
       "      <th>3</th>\n",
       "      <td>0.22570</td>\n",
       "      <td>0.08576</td>\n",
       "      <td>0.004852</td>\n",
       "      <td>0.000016</td>\n",
       "      <td>0.375168</td>\n",
       "      <td>32</td>\n",
       "    </tr>\n",
       "    <tr>\n",
       "      <th>4</th>\n",
       "      <td>0.21540</td>\n",
       "      <td>0.12556</td>\n",
       "      <td>0.000744</td>\n",
       "      <td>0.000006</td>\n",
       "      <td>0.431037</td>\n",
       "      <td>16</td>\n",
       "    </tr>\n",
       "  </tbody>\n",
       "</table>\n",
       "</div>"
      ],
      "text/plain": [
       "   test_loss  train_loss  learning_rate  lr_decay  drop_out  batch_size\n",
       "0    0.26522     0.17990       0.006921  0.000001  0.576119           8\n",
       "1    0.24839     0.04267       0.004684  0.000067  0.166472         128\n",
       "2    0.17498     0.04409       0.007602  0.000987  0.393835          32\n",
       "3    0.22570     0.08576       0.004852  0.000016  0.375168          32\n",
       "4    0.21540     0.12556       0.000744  0.000006  0.431037          16"
      ]
     },
     "execution_count": 92,
     "metadata": {},
     "output_type": "execute_result"
    }
   ],
   "source": [
    "data.head()"
   ]
  },
  {
   "cell_type": "code",
   "execution_count": 60,
   "metadata": {
    "collapsed": true
   },
   "outputs": [],
   "source": [
    "# data.loc[:, \"lr2\"] = data.loc[:, \"learning_rate\"]**2\n",
    "# data.loc[:, \"lr_decay2\"] = data.loc[:, \"lr_decay\"]**2\n",
    "# data.loc[:, \"drop_out2\"] = data.loc[:, \"drop_out\"]**2\n",
    "# data.loc[:, \"batch_size2\"] = data.loc[:, \"batch_size\"]**2"
   ]
  },
  {
   "cell_type": "code",
   "execution_count": 93,
   "metadata": {
    "collapsed": false
   },
   "outputs": [
    {
     "data": {
      "text/plain": [
       "(array([  6.,  11.,  25.,  30.,  15.,   9.,   4.,   0.,   2.,   0.,   0.,\n",
       "          3.,   1.,   1.,   0.,   0.,   0.,   0.,   1.,   0.,   0.,   1.,\n",
       "          1.,   0.,   1.]),\n",
       " array([ 0.01514  ,  0.0465908,  0.0780416,  0.1094924,  0.1409432,\n",
       "         0.172394 ,  0.2038448,  0.2352956,  0.2667464,  0.2981972,\n",
       "         0.329648 ,  0.3610988,  0.3925496,  0.4240004,  0.4554512,\n",
       "         0.486902 ,  0.5183528,  0.5498036,  0.5812544,  0.6127052,\n",
       "         0.644156 ,  0.6756068,  0.7070576,  0.7385084,  0.7699592,  0.80141  ]),\n",
       " <a list of 25 Patch objects>)"
      ]
     },
     "execution_count": 93,
     "metadata": {},
     "output_type": "execute_result"
    },
    {
     "data": {
      "image/png": "[encoded data removed]",
      "text/plain": [
       "<matplotlib.figure.Figure at 0x7fd73d639c50>"
      ]
     },
     "metadata": {},
     "output_type": "display_data"
    }
   ],
   "source": [
    "fig, ax = plt.subplots(figsize=(12, 8))\n",
    "\n",
    "ax.hist(data.loc[:, \"test_loss\"], bins= 25, alpha=0.5)\n",
    "ax.hist(data.loc[:, \"train_loss\"], bins=25, alpha=0.5)"
   ]
  },
  {
   "cell_type": "markdown",
   "metadata": {},
   "source": [
    "### Train test split"
   ]
  },
  {
   "cell_type": "code",
   "execution_count": 106,
   "metadata": {
    "collapsed": false
   },
   "outputs": [
    {
     "name": "stdout",
     "output_type": "stream",
     "text": [
      "<class 'pandas.core.frame.DataFrame'>\n",
      "RangeIndex: 111 entries, 0 to 110\n",
      "Data columns (total 4 columns):\n",
      "learning_rate    111 non-null float64\n",
      "lr_decay         111 non-null float64\n",
      "drop_out         111 non-null float64\n",
      "batch_size       111 non-null int64\n",
      "dtypes: float64(3), int64(1)\n",
      "memory usage: 3.5 KB\n",
      "None\n"
     ]
    }
   ],
   "source": [
    "y_data = data.loc[:, \"test_loss\"].values\n",
    "\n",
    "# drop labels\n",
    "x_data = data.drop(\"test_loss\", axis=1)\n",
    "x_data = x_data.drop(\"train_loss\", axis=1)\n",
    "\n",
    "print(x_data.info())\n",
    "# scale data\n",
    "##### Standardize data\n",
    "scaler = StandardScaler()\n",
    "x_data = scaler.fit_transform(x_data)\n",
    "\n",
    "X_train, X_test, y_train, y_test = train_test_split(x_data, y_data, test_size=0.25, random_state=1337)"
   ]
  },
  {
   "cell_type": "code",
   "execution_count": 107,
   "metadata": {
    "collapsed": false
   },
   "outputs": [
    {
     "name": "stdout",
     "output_type": "stream",
     "text": [
      "[-0.02733611  0.04089115  0.01270226  0.0059468 ]\n",
      "('R2', 0.14808555328780981)\n"
     ]
    }
   ],
   "source": [
    "model = linear_model.LinearRegression()\n",
    "model = model.fit(X_train, y_train)\n",
    "\n",
    "print(model.coef_)\n",
    "\n",
    "preds = model.predict(X_test)\n",
    "\n",
    "print(\"R2\", r2_score(y_test, preds))"
   ]
  },
  {
   "cell_type": "code",
   "execution_count": 108,
   "metadata": {
    "collapsed": false
   },
   "outputs": [
    {
     "name": "stdout",
     "output_type": "stream",
     "text": [
      "[ 0.41846065]\n"
     ]
    }
   ],
   "source": [
    "print(model.predict(X_test[14, :].reshape(1, -1)))"
   ]
  },
  {
   "cell_type": "code",
   "execution_count": 110,
   "metadata": {
    "collapsed": false
   },
   "outputs": [
    {
     "name": "stdout",
     "output_type": "stream",
     "text": [
      "0.340429698213\n",
      "0.437244663722\n",
      "0.436575887913\n",
      "0.435479169345\n",
      "0.34090742895\n",
      "0.439008841784\n",
      "0.392024584807\n",
      "0.391618174045\n",
      "0.340368491413\n",
      "0.387026987343\n",
      "0.438564390275\n",
      "0.342855944478\n",
      "0.339751609251\n",
      "0.5293437865\n",
      "0.434737508866\n",
      "0.531486677726\n",
      "0.342256099861\n",
      "0.34322621438\n",
      "0.389473180084\n",
      "0.437273971654\n",
      "0.439031752681\n",
      "0.388081632538\n",
      "0.438490736137\n",
      "0.435030114728\n",
      "0.436544456228\n",
      "0.388881408518\n",
      "0.339579228186\n",
      "0.344308640272\n",
      "0.530812684919\n",
      "0.438122133998\n",
      "0.434784305069\n",
      "0.434494414366\n",
      "0.434843948962\n",
      "0.342027138502\n",
      "0.39100976609\n",
      "0.434657618329\n",
      "0.53392979544\n",
      "0.438514062467\n",
      "0.43811235213\n",
      "0.387080653895\n",
      "0.39137330298\n",
      "0.33969824585\n",
      "0.39038208167\n",
      "0.532743635837\n",
      "0.436473348743\n",
      "0.532429004738\n",
      "0.387356824142\n",
      "0.531096456114\n",
      "0.53311623944\n",
      "0.531306841957\n",
      "0.437821977906\n",
      "0.3431908239\n",
      "0.437039134042\n",
      "0.434593359191\n",
      "0.386851324059\n",
      "0.438315645449\n",
      "0.438562012276\n",
      "0.532863838012\n",
      "0.434528835751\n",
      "0.386952059777\n",
      "0.434536108493\n",
      "0.530402771419\n",
      "0.390252030737\n",
      "0.391897376764\n",
      "0.529911124848\n",
      "0.534807046203\n",
      "0.339892127764\n",
      "0.439542681894\n",
      "0.533169425447\n",
      "0.533111229983\n",
      "0.530397003363\n",
      "0.340324022589\n",
      "0.438148815313\n",
      "0.391219074271\n",
      "0.342164347981\n",
      "0.435662189053\n",
      "0.437871537866\n",
      "0.438600705339\n",
      "0.434187245799\n",
      "0.392223295224\n",
      "0.437377052082\n",
      "0.344215632355\n",
      "0.386649600176\n",
      "0.439062713037\n",
      "0.344393152667\n",
      "0.342588231517\n",
      "0.532328198419\n",
      "0.531191919646\n",
      "0.437017581128\n",
      "0.342078141611\n",
      "0.532568701159\n",
      "0.532459724701\n",
      "0.390677141457\n",
      "0.434317219876\n",
      "0.438913604861\n",
      "0.530542096964\n",
      "0.530712952524\n",
      "0.387315702168\n",
      "0.534265868642\n",
      "0.438353034206\n"
     ]
    }
   ],
   "source": [
    "for x in range(100):\n",
    "    lr = np.random.uniform(0.00001, 0.0075)\n",
    "    drop_out = np.random.uniform(0.15, 0.60)\n",
    "\n",
    "    batches = [16, 24, 32, 48, 64]\n",
    "    batch_size = batches[np.random.randint(0, len(batches) - 1)]\n",
    "    lr_decay = np.random.uniform(-10, -3.3)\n",
    "    lr_decay = 4**lr_decay\n",
    "    \n",
    "    t_data = np.array([lr, lr_decay, drop_out, batch_size]).reshape(1, -1)\n",
    "    result = model.predict(t_data)\n",
    "    \n",
    "    print result[0]\n",
    "    if result[0] < 0.18:\n",
    "        print t_data\n",
    "    \n",
    "    "
   ]
  },
  {
   "cell_type": "code",
   "execution_count": null,
   "metadata": {
    "collapsed": true
   },
   "outputs": [],
   "source": []
  }
 ],
 "metadata": {
  "kernelspec": {
   "display_name": "Python 2",
   "language": "python",
   "name": "python2"
  },
  "language_info": {
   "codemirror_mode": {
    "name": "ipython",
    "version": 2
   },
   "file_extension": ".py",
   "mimetype": "text/x-python",
   "name": "python",
   "nbconvert_exporter": "python",
   "pygments_lexer": "ipython2",
   "version": "2.7.14"
  }
 },
 "nbformat": 4,
 "nbformat_minor": 2
}
